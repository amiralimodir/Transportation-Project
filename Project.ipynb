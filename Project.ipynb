{
 "cells": [
  {
   "cell_type": "code",
   "execution_count": 1,
   "metadata": {},
   "outputs": [],
   "source": [
    "import pandas as pd\n",
    "import numpy as np\n",
    "import seaborn as sns\n",
    "import matplotlib.pyplot as plt\n",
    "from sklearn.model_selection import train_test_split\n",
    "from sklearn.ensemble import RandomForestClassifier, RandomForestRegressor\n",
    "from sklearn.tree import DecisionTreeClassifier\n",
    "from sklearn.metrics import classification_report, mean_squared_error\n",
    "from xgboost import XGBClassifier, XGBRegressor\n",
    "from sklearn.feature_selection import SelectKBest, chi2\n",
    "from sklearn.preprocessing import LabelEncoder"
   ]
  },
  {
   "cell_type": "markdown",
   "metadata": {},
   "source": [
    "Load the Dataset"
   ]
  },
  {
   "cell_type": "code",
   "execution_count": 2,
   "metadata": {},
   "outputs": [
    {
     "name": "stderr",
     "output_type": "stream",
     "text": [
      "C:\\Users\\Huawei\\AppData\\Local\\Temp\\ipykernel_13892\\1318034804.py:1: DtypeWarning: Columns (3) have mixed types. Specify dtype option on import or set low_memory=False.\n",
      "  data = pd.read_csv('2021_Green_Taxi_Trip_Data.csv')\n"
     ]
    }
   ],
   "source": [
    "data = pd.read_csv('2021_Green_Taxi_Trip_Data.csv')"
   ]
  },
  {
   "cell_type": "markdown",
   "metadata": {},
   "source": [
    "Remove Unnecessary Columns"
   ]
  },
  {
   "cell_type": "code",
   "execution_count": 3,
   "metadata": {},
   "outputs": [],
   "source": [
    "data = data.drop(columns=['ehail_fee', 'improvement_surcharge', 'store_and_fwd_flag', 'RatecodeID', 'congestion_surcharge', 'fare_amount', 'extra', 'mta_tax'])"
   ]
  },
  {
   "cell_type": "markdown",
   "metadata": {},
   "source": [
    "Check number of nulls"
   ]
  },
  {
   "cell_type": "code",
   "execution_count": 4,
   "metadata": {},
   "outputs": [
    {
     "data": {
      "text/plain": [
       "VendorID                 249115\n",
       "lpep_pickup_datetime          0\n",
       "lpep_dropoff_datetime         0\n",
       "PULocationID                  0\n",
       "DOLocationID                  0\n",
       "passenger_count          412434\n",
       "trip_distance                 0\n",
       "tip_amount                    0\n",
       "tolls_amount                  0\n",
       "total_amount                  0\n",
       "payment_type             412434\n",
       "trip_type                412434\n",
       "dtype: int64"
      ]
     },
     "execution_count": 4,
     "metadata": {},
     "output_type": "execute_result"
    }
   ],
   "source": [
    "data.isnull().sum()"
   ]
  },
  {
   "cell_type": "markdown",
   "metadata": {},
   "source": [
    "Check payment types when tip amount > 0"
   ]
  },
  {
   "cell_type": "code",
   "execution_count": 5,
   "metadata": {},
   "outputs": [
    {
     "data": {
      "text/plain": [
       "payment_type\n",
       "1.0    298760\n",
       "3.0         1\n",
       "dtype: int64"
      ]
     },
     "execution_count": 5,
     "metadata": {},
     "output_type": "execute_result"
    }
   ],
   "source": [
    "filtered_data = data[data['tip_amount'] > 0]\n",
    "filtered_data.groupby('payment_type').size()"
   ]
  },
  {
   "cell_type": "markdown",
   "metadata": {},
   "source": [
    "So we consider payment type 1.0 to be a credit card. If a tip was given, assume payment was made by credit card(1.0). (We have just one row with different payment type (3.0), so we change all of the rows with the tip into payment type = 1.0)"
   ]
  },
  {
   "cell_type": "code",
   "execution_count": 6,
   "metadata": {},
   "outputs": [],
   "source": [
    "data.loc[(data['tip_amount'] > 0), 'payment_type'] = 1.0"
   ]
  },
  {
   "cell_type": "markdown",
   "metadata": {},
   "source": [
    "Check trip types when passenger count > 4"
   ]
  },
  {
   "cell_type": "code",
   "execution_count": 7,
   "metadata": {},
   "outputs": [
    {
     "data": {
      "text/plain": [
       "trip_type\n",
       "1.0    22695\n",
       "2.0      382\n",
       "dtype: int64"
      ]
     },
     "execution_count": 7,
     "metadata": {},
     "output_type": "execute_result"
    }
   ],
   "source": [
    "filtered_data = data[data['passenger_count'] > 4]\n",
    "filtered_data.groupby('trip_type').size()"
   ]
  },
  {
   "cell_type": "markdown",
   "metadata": {},
   "source": [
    "So we consider trip type 1.0 to be dispatch. (We have just 1.66% of rows with different trip type (2.0), so we change all of the rows with the tip into trip type = 1.0)"
   ]
  },
  {
   "cell_type": "markdown",
   "metadata": {},
   "source": [
    "Check Payment Types"
   ]
  },
  {
   "cell_type": "code",
   "execution_count": 8,
   "metadata": {},
   "outputs": [
    {
     "data": {
      "text/plain": [
       "payment_type\n",
       "1.0    461268\n",
       "2.0    259274\n",
       "3.0      3891\n",
       "4.0      1091\n",
       "5.0         7\n",
       "dtype: int64"
      ]
     },
     "execution_count": 8,
     "metadata": {},
     "output_type": "execute_result"
    }
   ],
   "source": [
    "data.groupby('payment_type').size()"
   ]
  },
  {
   "cell_type": "markdown",
   "metadata": {},
   "source": [
    "number of payment type = 5.0 is 7, which is so little, we could consider payment type = 5.0 as unknown."
   ]
  },
  {
   "cell_type": "markdown",
   "metadata": {},
   "source": [
    "Classify Vans and Set Trip Type"
   ]
  },
  {
   "cell_type": "code",
   "execution_count": 9,
   "metadata": {},
   "outputs": [],
   "source": [
    "data.loc[data['passenger_count'] > 4, 'trip_type'] = 1.0\n",
    "data.loc[data['passenger_count'] > 4, 'payment_type'] = 5.0"
   ]
  },
  {
   "cell_type": "markdown",
   "metadata": {},
   "source": [
    "Remove Rows with Missing VnedorID"
   ]
  },
  {
   "cell_type": "code",
   "execution_count": 10,
   "metadata": {},
   "outputs": [],
   "source": [
    "data = data.dropna(subset=['VendorID'])"
   ]
  },
  {
   "cell_type": "markdown",
   "metadata": {},
   "source": [
    "Filter by Year (2021 Only)"
   ]
  },
  {
   "cell_type": "code",
   "execution_count": 19,
   "metadata": {},
   "outputs": [],
   "source": [
    "data['pickup_datetime'] = pd.to_datetime(data['lpep_pickup_datetime'], format='%m/%d/%Y %I:%M:%S %p')\n",
    "data['dropoff_datetime'] = pd.to_datetime(data['lpep_dropoff_datetime'], format='%m/%d/%Y %I:%M:%S %p')\n",
    "data['duration'] = (data['dropoff_datetime'] - data['pickup_datetime']).dt.total_seconds() / 60\n",
    "data = data[data['pickup_datetime'].dt.year == 2021]\n",
    "data = data.drop(columns=['lpep_pickup_datetime','lpep_dropoff_datetime'])\n"
   ]
  },
  {
   "cell_type": "code",
   "execution_count": 31,
   "metadata": {},
   "outputs": [
    {
     "data": {
      "text/plain": [
       "VendorID             0.000000\n",
       "PULocationID         0.000000\n",
       "DOLocationID         0.000000\n",
       "passenger_count      0.199264\n",
       "trip_distance        0.000000\n",
       "tip_amount           0.000000\n",
       "tolls_amount         0.000000\n",
       "total_amount         0.000000\n",
       "payment_type         0.163446\n",
       "trip_type            0.199264\n",
       "pickup_datetime      0.000000\n",
       "droppoff_datetime    0.000000\n",
       "dropoff_datetime     0.000000\n",
       "duration             0.000000\n",
       "dtype: float64"
      ]
     },
     "execution_count": 31,
     "metadata": {},
     "output_type": "execute_result"
    }
   ],
   "source": [
    "data.isnull().mean()\n"
   ]
  },
  {
   "cell_type": "code",
   "execution_count": 37,
   "metadata": {},
   "outputs": [],
   "source": [
    "def select_features(data, target_column, n_features=4):\n",
    "    columns=[target_column]\n",
    "\n",
    "    for column in data.columns:\n",
    "        if(int(data[column].isnull().sum()) != 0 and column not in columns):\n",
    "            columns.append(column)\n",
    "\n",
    "    x_pass = data.drop(columns=columns)\n",
    "    x_pass = x_pass.select_dtypes(include=[np.number])  # Keep only numeric columns\n",
    "    y_pass = data[target_column].dropna()  \n",
    "    x_pass = x_pass.loc[y_pass.index]  # Match indices of x_pass and y_pass\n",
    "\n",
    "    # Train model\n",
    "    model = RandomForestClassifier(n_estimators=50, random_state=0)\n",
    "    model.fit(x_pass, y_pass)\n",
    "\n",
    "    # Get feature importances\n",
    "    feature_importances = pd.Series(model.feature_importances_, index=x_pass.columns)\n",
    "\n",
    "    # Select top features\n",
    "    selected_features = feature_importances.nlargest(n_features).index.tolist()\n",
    "    return selected_features\n",
    "\n",
    "def predict_with_selected_features(data , target_column):\n",
    "    features = select_features_for_passenger_count(data,target_column)\n",
    "\n",
    "    missing = data[data[target_column].isnull()]\n",
    "    train_data = data.dropna(subset=[target_column])\n",
    "\n",
    "    x_train = train_data[features]\n",
    "    y_train = train_data[target_column]\n",
    "    randomforest = RandomForestClassifier(n_estimators=50, random_state=0)\n",
    "    randomforest.fit(x_train, y_train)\n",
    "\n",
    "    data.loc[data[target_column].isnull(), target_column] = randomforest.predict(missing[features])\n",
    "    return data\n",
    "    "
   ]
  },
  {
   "cell_type": "code",
   "execution_count": 38,
   "metadata": {},
   "outputs": [
    {
     "data": {
      "text/plain": [
       "VendorID             0\n",
       "PULocationID         0\n",
       "DOLocationID         0\n",
       "passenger_count      0\n",
       "trip_distance        0\n",
       "tip_amount           0\n",
       "tolls_amount         0\n",
       "total_amount         0\n",
       "payment_type         0\n",
       "trip_type            0\n",
       "pickup_datetime      0\n",
       "droppoff_datetime    0\n",
       "dropoff_datetime     0\n",
       "duration             0\n",
       "dtype: int64"
      ]
     },
     "execution_count": 38,
     "metadata": {},
     "output_type": "execute_result"
    }
   ],
   "source": [
    "for column in data.columns:\n",
    "    if(int(data[column].isnull().sum()) != 0):\n",
    "            predict_with_selected_features(data,column)\n",
    "\n",
    "data.isnull().sum()"
   ]
  },
  {
   "cell_type": "code",
   "execution_count": 40,
   "metadata": {},
   "outputs": [
    {
     "data": {
      "image/png": "[encoded data removed]",
      "text/plain": [
       "<Figure size 1200x600 with 2 Axes>"
      ]
     },
     "metadata": {},
     "output_type": "display_data"
    }
   ],
   "source": [
    "data['day'] = data['pickup_datetime'].dt.day_name()  # Get day of the week\n",
    "data['hour'] = data['pickup_datetime'].dt.hour  # Get hour\n",
    "\n",
    "# Create a pivot table with counts\n",
    "heatmap_data = data.groupby(['day', 'hour']).size().unstack(fill_value=0)\n",
    "\n",
    "# Reorder days of the week for better visualization\n",
    "days = ['Monday', 'Tuesday', 'Wednesday', 'Thursday', 'Friday', 'Saturday', 'Sunday']\n",
    "heatmap_data = heatmap_data.reindex(days)\n",
    "\n",
    "# Plot the heatmap\n",
    "plt.figure(figsize=(12, 6))\n",
    "sns.heatmap(heatmap_data, cmap='YlGnBu', annot=False, cbar=True, fmt='d')\n",
    "plt.title('Heatmap of Pickups by Hour and Day of Week')\n",
    "plt.xlabel('Hour of Day')\n",
    "plt.ylabel('Day of Week')\n",
    "plt.tight_layout()\n",
    "plt.show()"
   ]
  }
 ],
 "metadata": {
  "kernelspec": {
   "display_name": "Python 3",
   "language": "python",
   "name": "python3"
  },
  "language_info": {
   "codemirror_mode": {
    "name": "ipython",
    "version": 3
   },
   "file_extension": ".py",
   "mimetype": "text/x-python",
   "name": "python",
   "nbconvert_exporter": "python",
   "pygments_lexer": "ipython3",
   "version": "3.12.6"
  }
 },
 "nbformat": 4,
 "nbformat_minor": 2
}
